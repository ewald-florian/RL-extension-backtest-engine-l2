{
 "cells": [
  {
   "cell_type": "markdown",
   "id": "872c1e18",
   "metadata": {},
   "source": [
    "# Market Context Feature Engeneering and Feature Scaling"
   ]
  },
  {
   "cell_type": "code",
   "execution_count": 208,
   "id": "f2e1eaba",
   "metadata": {},
   "outputs": [],
   "source": [
    "# Questions:\n",
    "# ---------\n",
    "# What would happen if no scaling is applied?\n",
    "# min-max vs, z-score?\n",
    "# Does z-score work if value is outside historic range?\n",
    "# [0,1] vs [-1,1] ranges\n",
    "# current, vs historic min and max values\n",
    "# Scale (relative) spread"
   ]
  },
  {
   "cell_type": "markdown",
   "id": "4f8eea9d",
   "metadata": {},
   "source": [
    "**Notes** <p>\n",
    "\n",
    "- Scaling is necessary since without scaling features with larger absolute values will dominate the model (i.e. prices would typically range between 10 and 300 while quantities can easily reach hundrets of thousands)\n",
    "- Moreover, scaling can help co speed up convergence"
   ]
  },
  {
   "cell_type": "markdown",
   "id": "e2ecd282",
   "metadata": {},
   "source": [
    "**Difficulties of Scaling**  <p>\n",
    "    \n",
    "- What are proper scaling methods?\n",
    "- Which information gets lost during scaling (e.g. absolute prices, absolute volumes)\n",
    "- How can the model translate back to the original scale? E.g. a price prediction is made based on scaled data and now an order should be placed with the respective absolute unscaled price... -> This could probably work with fix scaling parameters (e.g. min and max are computed as long run averages and stay fix)\n",
    "- Toy Approach: Use min max scaling with the current minn and max values of the orderbook (for prices and quantities seperately): Disadvantage: Since the scaling parameters change all the time, the scaled orderbooks are not really comparable over time, however, some information is still maintained (e.g. the differecne between the levels, difference between the bid and the ask side etc.). Moreover, when market context stores e.g. ten ticks, the stored data will change when the min and max values change... (in cas the min and max are computed for the entire context and not for each row seperately). Advantage: data can never be outside the min-max range.\n",
    "- **First Approach**: Use min-max scaling with long run min and max values computed for prices and quantities (e.g. average or even absolute min/max during the last day/week/month). Problem: It is possible that new data is outside the historic min-max range."
   ]
  },
  {
   "cell_type": "markdown",
   "id": "548c8ea9",
   "metadata": {},
   "source": [
    "**Relevant Features**\n",
    "- Which additional Features should be used?\n",
    "- How should these additional features be scaled?\n",
    "- An Easy Example would be to take the midprice and scale it in the same way as other prices\n",
    "- (Relative) Spread\n",
    "- Bid-Ask-Imbalances"
   ]
  },
  {
   "cell_type": "code",
   "execution_count": null,
   "id": "5af541f1",
   "metadata": {},
   "outputs": [],
   "source": []
  },
  {
   "cell_type": "code",
   "execution_count": null,
   "id": "61eb84ef",
   "metadata": {},
   "outputs": [],
   "source": []
  },
  {
   "cell_type": "code",
   "execution_count": null,
   "id": "868188da",
   "metadata": {},
   "outputs": [],
   "source": []
  },
  {
   "cell_type": "code",
   "execution_count": 209,
   "id": "2a78a7ba",
   "metadata": {},
   "outputs": [],
   "source": [
    "import pandas as pd\n",
    "import numpy as np\n",
    "import matplotlib.pyplot as plt"
   ]
  },
  {
   "cell_type": "code",
   "execution_count": 210,
   "id": "1ed08abc",
   "metadata": {},
   "outputs": [],
   "source": [
    "df = pd.read_csv(\"market_context_experimental_df.csv\")"
   ]
  },
  {
   "cell_type": "code",
   "execution_count": 211,
   "id": "bb8a5f65",
   "metadata": {},
   "outputs": [
    {
     "data": {
      "text/html": [
       "<div>\n",
       "<style scoped>\n",
       "    .dataframe tbody tr th:only-of-type {\n",
       "        vertical-align: middle;\n",
       "    }\n",
       "\n",
       "    .dataframe tbody tr th {\n",
       "        vertical-align: top;\n",
       "    }\n",
       "\n",
       "    .dataframe thead th {\n",
       "        text-align: right;\n",
       "    }\n",
       "</style>\n",
       "<table border=\"1\" class=\"dataframe\">\n",
       "  <thead>\n",
       "    <tr style=\"text-align: right;\">\n",
       "      <th></th>\n",
       "      <th>0</th>\n",
       "      <th>1</th>\n",
       "      <th>2</th>\n",
       "      <th>3</th>\n",
       "      <th>4</th>\n",
       "      <th>5</th>\n",
       "      <th>6</th>\n",
       "      <th>7</th>\n",
       "      <th>8</th>\n",
       "      <th>9</th>\n",
       "      <th>...</th>\n",
       "      <th>30</th>\n",
       "      <th>31</th>\n",
       "      <th>32</th>\n",
       "      <th>33</th>\n",
       "      <th>34</th>\n",
       "      <th>35</th>\n",
       "      <th>36</th>\n",
       "      <th>37</th>\n",
       "      <th>38</th>\n",
       "      <th>39</th>\n",
       "    </tr>\n",
       "  </thead>\n",
       "  <tbody>\n",
       "    <tr>\n",
       "      <th>0</th>\n",
       "      <td>291.2</td>\n",
       "      <td>629.0</td>\n",
       "      <td>291.4</td>\n",
       "      <td>17.0</td>\n",
       "      <td>291.1</td>\n",
       "      <td>598.0</td>\n",
       "      <td>291.5</td>\n",
       "      <td>547.0</td>\n",
       "      <td>291.0</td>\n",
       "      <td>1310.0</td>\n",
       "      <td>...</td>\n",
       "      <td>292.1</td>\n",
       "      <td>664.0</td>\n",
       "      <td>290.4</td>\n",
       "      <td>169.0</td>\n",
       "      <td>292.2</td>\n",
       "      <td>762.0</td>\n",
       "      <td>290.3</td>\n",
       "      <td>209.0</td>\n",
       "      <td>292.3</td>\n",
       "      <td>1587.0</td>\n",
       "    </tr>\n",
       "    <tr>\n",
       "      <th>1</th>\n",
       "      <td>291.2</td>\n",
       "      <td>629.0</td>\n",
       "      <td>291.4</td>\n",
       "      <td>17.0</td>\n",
       "      <td>291.1</td>\n",
       "      <td>598.0</td>\n",
       "      <td>291.5</td>\n",
       "      <td>547.0</td>\n",
       "      <td>291.0</td>\n",
       "      <td>1310.0</td>\n",
       "      <td>...</td>\n",
       "      <td>292.1</td>\n",
       "      <td>664.0</td>\n",
       "      <td>290.4</td>\n",
       "      <td>169.0</td>\n",
       "      <td>292.2</td>\n",
       "      <td>762.0</td>\n",
       "      <td>290.3</td>\n",
       "      <td>209.0</td>\n",
       "      <td>292.3</td>\n",
       "      <td>1587.0</td>\n",
       "    </tr>\n",
       "    <tr>\n",
       "      <th>2</th>\n",
       "      <td>291.2</td>\n",
       "      <td>629.0</td>\n",
       "      <td>291.4</td>\n",
       "      <td>17.0</td>\n",
       "      <td>291.1</td>\n",
       "      <td>566.0</td>\n",
       "      <td>291.5</td>\n",
       "      <td>547.0</td>\n",
       "      <td>291.0</td>\n",
       "      <td>1310.0</td>\n",
       "      <td>...</td>\n",
       "      <td>292.1</td>\n",
       "      <td>664.0</td>\n",
       "      <td>290.4</td>\n",
       "      <td>169.0</td>\n",
       "      <td>292.2</td>\n",
       "      <td>762.0</td>\n",
       "      <td>290.3</td>\n",
       "      <td>209.0</td>\n",
       "      <td>292.3</td>\n",
       "      <td>1587.0</td>\n",
       "    </tr>\n",
       "    <tr>\n",
       "      <th>3</th>\n",
       "      <td>291.3</td>\n",
       "      <td>40.0</td>\n",
       "      <td>291.4</td>\n",
       "      <td>17.0</td>\n",
       "      <td>291.2</td>\n",
       "      <td>629.0</td>\n",
       "      <td>291.5</td>\n",
       "      <td>547.0</td>\n",
       "      <td>291.1</td>\n",
       "      <td>566.0</td>\n",
       "      <td>...</td>\n",
       "      <td>292.1</td>\n",
       "      <td>664.0</td>\n",
       "      <td>290.5</td>\n",
       "      <td>906.0</td>\n",
       "      <td>292.2</td>\n",
       "      <td>762.0</td>\n",
       "      <td>290.4</td>\n",
       "      <td>169.0</td>\n",
       "      <td>292.3</td>\n",
       "      <td>1587.0</td>\n",
       "    </tr>\n",
       "    <tr>\n",
       "      <th>4</th>\n",
       "      <td>291.3</td>\n",
       "      <td>40.0</td>\n",
       "      <td>291.4</td>\n",
       "      <td>17.0</td>\n",
       "      <td>291.2</td>\n",
       "      <td>629.0</td>\n",
       "      <td>291.5</td>\n",
       "      <td>547.0</td>\n",
       "      <td>291.1</td>\n",
       "      <td>566.0</td>\n",
       "      <td>...</td>\n",
       "      <td>292.1</td>\n",
       "      <td>664.0</td>\n",
       "      <td>290.5</td>\n",
       "      <td>906.0</td>\n",
       "      <td>292.2</td>\n",
       "      <td>762.0</td>\n",
       "      <td>290.4</td>\n",
       "      <td>169.0</td>\n",
       "      <td>292.3</td>\n",
       "      <td>1587.0</td>\n",
       "    </tr>\n",
       "    <tr>\n",
       "      <th>5</th>\n",
       "      <td>291.3</td>\n",
       "      <td>40.0</td>\n",
       "      <td>291.4</td>\n",
       "      <td>17.0</td>\n",
       "      <td>291.2</td>\n",
       "      <td>659.0</td>\n",
       "      <td>291.5</td>\n",
       "      <td>547.0</td>\n",
       "      <td>291.1</td>\n",
       "      <td>566.0</td>\n",
       "      <td>...</td>\n",
       "      <td>292.1</td>\n",
       "      <td>664.0</td>\n",
       "      <td>290.5</td>\n",
       "      <td>906.0</td>\n",
       "      <td>292.2</td>\n",
       "      <td>762.0</td>\n",
       "      <td>290.4</td>\n",
       "      <td>169.0</td>\n",
       "      <td>292.3</td>\n",
       "      <td>1587.0</td>\n",
       "    </tr>\n",
       "    <tr>\n",
       "      <th>6</th>\n",
       "      <td>291.3</td>\n",
       "      <td>85.0</td>\n",
       "      <td>291.4</td>\n",
       "      <td>17.0</td>\n",
       "      <td>291.2</td>\n",
       "      <td>659.0</td>\n",
       "      <td>291.5</td>\n",
       "      <td>547.0</td>\n",
       "      <td>291.1</td>\n",
       "      <td>566.0</td>\n",
       "      <td>...</td>\n",
       "      <td>292.1</td>\n",
       "      <td>664.0</td>\n",
       "      <td>290.5</td>\n",
       "      <td>906.0</td>\n",
       "      <td>292.2</td>\n",
       "      <td>762.0</td>\n",
       "      <td>290.4</td>\n",
       "      <td>169.0</td>\n",
       "      <td>292.3</td>\n",
       "      <td>1587.0</td>\n",
       "    </tr>\n",
       "    <tr>\n",
       "      <th>7</th>\n",
       "      <td>291.3</td>\n",
       "      <td>85.0</td>\n",
       "      <td>291.4</td>\n",
       "      <td>17.0</td>\n",
       "      <td>291.2</td>\n",
       "      <td>659.0</td>\n",
       "      <td>291.5</td>\n",
       "      <td>547.0</td>\n",
       "      <td>291.1</td>\n",
       "      <td>566.0</td>\n",
       "      <td>...</td>\n",
       "      <td>292.1</td>\n",
       "      <td>664.0</td>\n",
       "      <td>290.5</td>\n",
       "      <td>906.0</td>\n",
       "      <td>292.2</td>\n",
       "      <td>762.0</td>\n",
       "      <td>290.4</td>\n",
       "      <td>169.0</td>\n",
       "      <td>292.3</td>\n",
       "      <td>1587.0</td>\n",
       "    </tr>\n",
       "    <tr>\n",
       "      <th>8</th>\n",
       "      <td>291.3</td>\n",
       "      <td>120.0</td>\n",
       "      <td>291.4</td>\n",
       "      <td>17.0</td>\n",
       "      <td>291.2</td>\n",
       "      <td>659.0</td>\n",
       "      <td>291.5</td>\n",
       "      <td>547.0</td>\n",
       "      <td>291.1</td>\n",
       "      <td>566.0</td>\n",
       "      <td>...</td>\n",
       "      <td>292.1</td>\n",
       "      <td>664.0</td>\n",
       "      <td>290.5</td>\n",
       "      <td>906.0</td>\n",
       "      <td>292.2</td>\n",
       "      <td>762.0</td>\n",
       "      <td>290.4</td>\n",
       "      <td>169.0</td>\n",
       "      <td>292.3</td>\n",
       "      <td>1587.0</td>\n",
       "    </tr>\n",
       "    <tr>\n",
       "      <th>9</th>\n",
       "      <td>291.3</td>\n",
       "      <td>120.0</td>\n",
       "      <td>291.4</td>\n",
       "      <td>17.0</td>\n",
       "      <td>291.2</td>\n",
       "      <td>520.0</td>\n",
       "      <td>291.5</td>\n",
       "      <td>547.0</td>\n",
       "      <td>291.1</td>\n",
       "      <td>566.0</td>\n",
       "      <td>...</td>\n",
       "      <td>292.1</td>\n",
       "      <td>664.0</td>\n",
       "      <td>290.5</td>\n",
       "      <td>906.0</td>\n",
       "      <td>292.2</td>\n",
       "      <td>762.0</td>\n",
       "      <td>290.4</td>\n",
       "      <td>169.0</td>\n",
       "      <td>292.3</td>\n",
       "      <td>1587.0</td>\n",
       "    </tr>\n",
       "  </tbody>\n",
       "</table>\n",
       "<p>10 rows × 40 columns</p>\n",
       "</div>"
      ],
      "text/plain": [
       "       0      1      2     3      4      5      6      7      8       9  ...  \\\n",
       "0  291.2  629.0  291.4  17.0  291.1  598.0  291.5  547.0  291.0  1310.0  ...   \n",
       "1  291.2  629.0  291.4  17.0  291.1  598.0  291.5  547.0  291.0  1310.0  ...   \n",
       "2  291.2  629.0  291.4  17.0  291.1  566.0  291.5  547.0  291.0  1310.0  ...   \n",
       "3  291.3   40.0  291.4  17.0  291.2  629.0  291.5  547.0  291.1   566.0  ...   \n",
       "4  291.3   40.0  291.4  17.0  291.2  629.0  291.5  547.0  291.1   566.0  ...   \n",
       "5  291.3   40.0  291.4  17.0  291.2  659.0  291.5  547.0  291.1   566.0  ...   \n",
       "6  291.3   85.0  291.4  17.0  291.2  659.0  291.5  547.0  291.1   566.0  ...   \n",
       "7  291.3   85.0  291.4  17.0  291.2  659.0  291.5  547.0  291.1   566.0  ...   \n",
       "8  291.3  120.0  291.4  17.0  291.2  659.0  291.5  547.0  291.1   566.0  ...   \n",
       "9  291.3  120.0  291.4  17.0  291.2  520.0  291.5  547.0  291.1   566.0  ...   \n",
       "\n",
       "      30     31     32     33     34     35     36     37     38      39  \n",
       "0  292.1  664.0  290.4  169.0  292.2  762.0  290.3  209.0  292.3  1587.0  \n",
       "1  292.1  664.0  290.4  169.0  292.2  762.0  290.3  209.0  292.3  1587.0  \n",
       "2  292.1  664.0  290.4  169.0  292.2  762.0  290.3  209.0  292.3  1587.0  \n",
       "3  292.1  664.0  290.5  906.0  292.2  762.0  290.4  169.0  292.3  1587.0  \n",
       "4  292.1  664.0  290.5  906.0  292.2  762.0  290.4  169.0  292.3  1587.0  \n",
       "5  292.1  664.0  290.5  906.0  292.2  762.0  290.4  169.0  292.3  1587.0  \n",
       "6  292.1  664.0  290.5  906.0  292.2  762.0  290.4  169.0  292.3  1587.0  \n",
       "7  292.1  664.0  290.5  906.0  292.2  762.0  290.4  169.0  292.3  1587.0  \n",
       "8  292.1  664.0  290.5  906.0  292.2  762.0  290.4  169.0  292.3  1587.0  \n",
       "9  292.1  664.0  290.5  906.0  292.2  762.0  290.4  169.0  292.3  1587.0  \n",
       "\n",
       "[10 rows x 40 columns]"
      ]
     },
     "execution_count": 211,
     "metadata": {},
     "output_type": "execute_result"
    }
   ],
   "source": [
    "df"
   ]
  },
  {
   "cell_type": "code",
   "execution_count": 212,
   "id": "19e52395",
   "metadata": {},
   "outputs": [],
   "source": [
    "array = np.array(df)"
   ]
  },
  {
   "cell_type": "code",
   "execution_count": 213,
   "id": "d10ae6cf",
   "metadata": {},
   "outputs": [
    {
     "data": {
      "text/plain": [
       "array([ 291.2,  629. ,  291.4,   17. ,  291.1,  598. ,  291.5,  547. ,\n",
       "        291. , 1310. ,  291.6,  561. ,  290.9,  453. ,  291.7,  549. ,\n",
       "        290.8,  680. ,  291.8,  451. ,  290.7,  795. ,  291.9,  540. ,\n",
       "        290.6,  473. ,  292. ,  339. ,  290.5,  906. ,  292.1,  664. ,\n",
       "        290.4,  169. ,  292.2,  762. ,  290.3,  209. ,  292.3, 1587. ])"
      ]
     },
     "execution_count": 213,
     "metadata": {},
     "output_type": "execute_result"
    }
   ],
   "source": [
    "array[0,:]"
   ]
  },
  {
   "cell_type": "markdown",
   "id": "cebdbb81",
   "metadata": {},
   "source": [
    "### Midprice, Spread"
   ]
  },
  {
   "cell_type": "code",
   "execution_count": 214,
   "id": "6051ec84",
   "metadata": {},
   "outputs": [],
   "source": [
    "# Does the midprice itself carry any information?"
   ]
  },
  {
   "cell_type": "code",
   "execution_count": 215,
   "id": "25215c98",
   "metadata": {},
   "outputs": [
    {
     "data": {
      "text/plain": [
       "array([291.3 , 291.3 , 291.3 , 291.35, 291.35, 291.35, 291.35, 291.35,\n",
       "       291.35, 291.35])"
      ]
     },
     "execution_count": 215,
     "metadata": {},
     "output_type": "execute_result"
    }
   ],
   "source": [
    "midprice = (array[:,2] + array[:,0]) / 2\n",
    "midprice"
   ]
  },
  {
   "cell_type": "code",
   "execution_count": 216,
   "id": "1df5a861",
   "metadata": {},
   "outputs": [
    {
     "data": {
      "text/plain": [
       "array([0.2, 0.2, 0.2, 0.1, 0.1, 0.1, 0.1, 0.1, 0.1, 0.1])"
      ]
     },
     "execution_count": 216,
     "metadata": {},
     "output_type": "execute_result"
    }
   ],
   "source": [
    "spread = array[:,2] - array[:,0]\n",
    "spread"
   ]
  },
  {
   "cell_type": "code",
   "execution_count": 217,
   "id": "d18930b6",
   "metadata": {},
   "outputs": [],
   "source": [
    "# Problem: \n",
    "# relative spread has to be scaled...\n",
    "# Collect historic min and max spread over a certain period?"
   ]
  },
  {
   "cell_type": "code",
   "execution_count": 218,
   "id": "98b0de44",
   "metadata": {},
   "outputs": [
    {
     "data": {
      "text/plain": [
       "array([0.00068658, 0.00068658, 0.00068658, 0.00034323, 0.00034323,\n",
       "       0.00034323, 0.00034323, 0.00034323, 0.00034323, 0.00034323])"
      ]
     },
     "execution_count": 218,
     "metadata": {},
     "output_type": "execute_result"
    }
   ],
   "source": [
    "# Problem: gas to be scaled...\n",
    "relative_spread = spread / midprice\n",
    "relative_spread"
   ]
  },
  {
   "cell_type": "code",
   "execution_count": 219,
   "id": "24d93820",
   "metadata": {},
   "outputs": [],
   "source": [
    "relative_spread = 5 / 30"
   ]
  },
  {
   "cell_type": "code",
   "execution_count": 220,
   "id": "5e2b7a4c",
   "metadata": {},
   "outputs": [
    {
     "data": {
      "text/plain": [
       "166.66666666666666"
      ]
     },
     "execution_count": 220,
     "metadata": {},
     "output_type": "execute_result"
    }
   ],
   "source": [
    "relative_spread*1000"
   ]
  },
  {
   "cell_type": "markdown",
   "id": "4225e3c7",
   "metadata": {},
   "source": [
    "### Scaling"
   ]
  },
  {
   "cell_type": "code",
   "execution_count": 221,
   "id": "e44851ac",
   "metadata": {},
   "outputs": [],
   "source": [
    "scaled_array = array.copy()"
   ]
  },
  {
   "cell_type": "markdown",
   "id": "75544d15",
   "metadata": {},
   "source": [
    "### Prices: Min-Max-Scaling (of current market_context)"
   ]
  },
  {
   "cell_type": "code",
   "execution_count": 224,
   "id": "632cdb56",
   "metadata": {},
   "outputs": [
    {
     "data": {
      "text/plain": [
       "array([[ 291.2,  629. ,  291.4,   17. ,  291.1,  598. ,  291.5,  547. ,\n",
       "         291. , 1310. ,  291.6,  561. ,  290.9,  453. ,  291.7,  549. ,\n",
       "         290.8,  680. ,  291.8,  451. ,  290.7,  795. ,  291.9,  540. ,\n",
       "         290.6,  473. ,  292. ,  339. ,  290.5,  906. ,  292.1,  664. ,\n",
       "         290.4,  169. ,  292.2,  762. ,  290.3,  209. ,  292.3, 1587. ],\n",
       "       [ 291.2,  629. ,  291.4,   17. ,  291.1,  598. ,  291.5,  547. ,\n",
       "         291. , 1310. ,  291.6,  561. ,  290.9,  453. ,  291.7,  549. ,\n",
       "         290.8,  680. ,  291.8,  451. ,  290.7,  795. ,  291.9,  540. ,\n",
       "         290.6,  473. ,  292. ,  339. ,  290.5,  906. ,  292.1,  664. ,\n",
       "         290.4,  169. ,  292.2,  762. ,  290.3,  209. ,  292.3, 1587. ],\n",
       "       [ 291.2,  629. ,  291.4,   17. ,  291.1,  566. ,  291.5,  547. ,\n",
       "         291. , 1310. ,  291.6,  561. ,  290.9,  453. ,  291.7,  549. ,\n",
       "         290.8,  680. ,  291.8,  451. ,  290.7,  795. ,  291.9,  540. ,\n",
       "         290.6,  473. ,  292. ,  339. ,  290.5,  906. ,  292.1,  664. ,\n",
       "         290.4,  169. ,  292.2,  762. ,  290.3,  209. ,  292.3, 1587. ],\n",
       "       [ 291.3,   40. ,  291.4,   17. ,  291.2,  629. ,  291.5,  547. ,\n",
       "         291.1,  566. ,  291.6,  561. ,  291. , 1310. ,  291.7,  549. ,\n",
       "         290.9,  453. ,  291.8,  451. ,  290.8,  680. ,  291.9,  540. ,\n",
       "         290.7,  795. ,  292. ,  339. ,  290.6,  473. ,  292.1,  664. ,\n",
       "         290.5,  906. ,  292.2,  762. ,  290.4,  169. ,  292.3, 1587. ],\n",
       "       [ 291.3,   40. ,  291.4,   17. ,  291.2,  629. ,  291.5,  547. ,\n",
       "         291.1,  566. ,  291.6,  561. ,  291. , 1310. ,  291.7,  549. ,\n",
       "         290.9,  453. ,  291.8,  451. ,  290.8,  680. ,  291.9,  540. ,\n",
       "         290.7,  795. ,  292. ,  339. ,  290.6,  473. ,  292.1,  664. ,\n",
       "         290.5,  906. ,  292.2,  762. ,  290.4,  169. ,  292.3, 1587. ],\n",
       "       [ 291.3,   40. ,  291.4,   17. ,  291.2,  659. ,  291.5,  547. ,\n",
       "         291.1,  566. ,  291.6,  561. ,  291. , 1310. ,  291.7,  549. ,\n",
       "         290.9,  453. ,  291.8,  451. ,  290.8,  680. ,  291.9,  540. ,\n",
       "         290.7,  795. ,  292. ,  339. ,  290.6,  473. ,  292.1,  664. ,\n",
       "         290.5,  906. ,  292.2,  762. ,  290.4,  169. ,  292.3, 1587. ],\n",
       "       [ 291.3,   85. ,  291.4,   17. ,  291.2,  659. ,  291.5,  547. ,\n",
       "         291.1,  566. ,  291.6,  561. ,  291. , 1310. ,  291.7,  549. ,\n",
       "         290.9,  453. ,  291.8,  451. ,  290.8,  680. ,  291.9,  540. ,\n",
       "         290.7,  795. ,  292. ,  339. ,  290.6,  473. ,  292.1,  664. ,\n",
       "         290.5,  906. ,  292.2,  762. ,  290.4,  169. ,  292.3, 1587. ],\n",
       "       [ 291.3,   85. ,  291.4,   17. ,  291.2,  659. ,  291.5,  547. ,\n",
       "         291.1,  566. ,  291.6,  561. ,  291. , 1310. ,  291.7,  549. ,\n",
       "         290.9,  453. ,  291.8,  451. ,  290.8,  680. ,  291.9,  540. ,\n",
       "         290.7,  795. ,  292. ,  339. ,  290.6,  473. ,  292.1,  664. ,\n",
       "         290.5,  906. ,  292.2,  762. ,  290.4,  169. ,  292.3, 1587. ],\n",
       "       [ 291.3,  120. ,  291.4,   17. ,  291.2,  659. ,  291.5,  547. ,\n",
       "         291.1,  566. ,  291.6,  561. ,  291. , 1310. ,  291.7,  549. ,\n",
       "         290.9,  453. ,  291.8,  451. ,  290.8,  680. ,  291.9,  540. ,\n",
       "         290.7,  795. ,  292. ,  339. ,  290.6,  473. ,  292.1,  664. ,\n",
       "         290.5,  906. ,  292.2,  762. ,  290.4,  169. ,  292.3, 1587. ],\n",
       "       [ 291.3,  120. ,  291.4,   17. ,  291.2,  520. ,  291.5,  547. ,\n",
       "         291.1,  566. ,  291.6,  561. ,  291. , 1310. ,  291.7,  549. ,\n",
       "         290.9,  453. ,  291.8,  451. ,  290.8,  680. ,  291.9,  540. ,\n",
       "         290.7,  795. ,  292. ,  339. ,  290.6,  473. ,  292.1,  664. ,\n",
       "         290.5,  906. ,  292.2,  762. ,  290.4,  169. ,  292.3, 1587. ]],\n",
       "      dtype=float32)"
      ]
     },
     "execution_count": 224,
     "metadata": {},
     "output_type": "execute_result"
    }
   ],
   "source": [
    "scaled_array.astype('float32')"
   ]
  },
  {
   "cell_type": "code",
   "execution_count": 225,
   "id": "337b9e5d",
   "metadata": {},
   "outputs": [
    {
     "data": {
      "text/plain": [
       "dtype('float64')"
      ]
     },
     "execution_count": 225,
     "metadata": {},
     "output_type": "execute_result"
    }
   ],
   "source": [
    "scaled_array.dtype"
   ]
  },
  {
   "cell_type": "markdown",
   "id": "6fbe6366",
   "metadata": {},
   "source": [
    " X_norm = (X - X_min) / (X_max-X_min)"
   ]
  },
  {
   "cell_type": "code",
   "execution_count": 40,
   "id": "7a1ef5b4",
   "metadata": {},
   "outputs": [
    {
     "data": {
      "text/plain": [
       "290.3"
      ]
     },
     "execution_count": 40,
     "metadata": {},
     "output_type": "execute_result"
    }
   ],
   "source": [
    "min_price = scaled_array[:,::2].min()\n",
    "min_price"
   ]
  },
  {
   "cell_type": "code",
   "execution_count": 41,
   "id": "19a2b502",
   "metadata": {},
   "outputs": [
    {
     "data": {
      "text/plain": [
       "292.3"
      ]
     },
     "execution_count": 41,
     "metadata": {},
     "output_type": "execute_result"
    }
   ],
   "source": [
    "max_price = scaled_array[:,::2].max()\n",
    "max_price"
   ]
  },
  {
   "cell_type": "code",
   "execution_count": null,
   "id": "3642c92e",
   "metadata": {},
   "outputs": [],
   "source": [
    "# What happens if the price is above max?\n",
    "# --> scaled price > 1"
   ]
  },
  {
   "cell_type": "code",
   "execution_count": 83,
   "id": "a983df35",
   "metadata": {},
   "outputs": [
    {
     "data": {
      "text/plain": [
       "2.3499999999999943"
      ]
     },
     "execution_count": 83,
     "metadata": {},
     "output_type": "execute_result"
    }
   ],
   "source": [
    "(295 - min_price) / (max_price - min_price)"
   ]
  },
  {
   "cell_type": "code",
   "execution_count": null,
   "id": "cdfd2b40",
   "metadata": {},
   "outputs": [],
   "source": [
    "# What happens if the price is below min?\n",
    "# --> scaled price < 0"
   ]
  },
  {
   "cell_type": "code",
   "execution_count": 84,
   "id": "17944e72",
   "metadata": {},
   "outputs": [
    {
     "data": {
      "text/plain": [
       "-2.6500000000000057"
      ]
     },
     "execution_count": 84,
     "metadata": {},
     "output_type": "execute_result"
    }
   ],
   "source": [
    "(285 - min_price) / (max_price - min_price)"
   ]
  },
  {
   "cell_type": "code",
   "execution_count": 46,
   "id": "60960b8c",
   "metadata": {},
   "outputs": [
    {
     "data": {
      "text/plain": [
       "array([[0.45, 0.55, 0.4 , 0.6 , 0.35, 0.65, 0.3 , 0.7 , 0.25, 0.75, 0.2 ,\n",
       "        0.8 , 0.15, 0.85, 0.1 , 0.9 , 0.05, 0.95, 0.  , 1.  ],\n",
       "       [0.45, 0.55, 0.4 , 0.6 , 0.35, 0.65, 0.3 , 0.7 , 0.25, 0.75, 0.2 ,\n",
       "        0.8 , 0.15, 0.85, 0.1 , 0.9 , 0.05, 0.95, 0.  , 1.  ],\n",
       "       [0.45, 0.55, 0.4 , 0.6 , 0.35, 0.65, 0.3 , 0.7 , 0.25, 0.75, 0.2 ,\n",
       "        0.8 , 0.15, 0.85, 0.1 , 0.9 , 0.05, 0.95, 0.  , 1.  ],\n",
       "       [0.5 , 0.55, 0.45, 0.6 , 0.4 , 0.65, 0.35, 0.7 , 0.3 , 0.75, 0.25,\n",
       "        0.8 , 0.2 , 0.85, 0.15, 0.9 , 0.1 , 0.95, 0.05, 1.  ],\n",
       "       [0.5 , 0.55, 0.45, 0.6 , 0.4 , 0.65, 0.35, 0.7 , 0.3 , 0.75, 0.25,\n",
       "        0.8 , 0.2 , 0.85, 0.15, 0.9 , 0.1 , 0.95, 0.05, 1.  ],\n",
       "       [0.5 , 0.55, 0.45, 0.6 , 0.4 , 0.65, 0.35, 0.7 , 0.3 , 0.75, 0.25,\n",
       "        0.8 , 0.2 , 0.85, 0.15, 0.9 , 0.1 , 0.95, 0.05, 1.  ],\n",
       "       [0.5 , 0.55, 0.45, 0.6 , 0.4 , 0.65, 0.35, 0.7 , 0.3 , 0.75, 0.25,\n",
       "        0.8 , 0.2 , 0.85, 0.15, 0.9 , 0.1 , 0.95, 0.05, 1.  ],\n",
       "       [0.5 , 0.55, 0.45, 0.6 , 0.4 , 0.65, 0.35, 0.7 , 0.3 , 0.75, 0.25,\n",
       "        0.8 , 0.2 , 0.85, 0.15, 0.9 , 0.1 , 0.95, 0.05, 1.  ],\n",
       "       [0.5 , 0.55, 0.45, 0.6 , 0.4 , 0.65, 0.35, 0.7 , 0.3 , 0.75, 0.25,\n",
       "        0.8 , 0.2 , 0.85, 0.15, 0.9 , 0.1 , 0.95, 0.05, 1.  ],\n",
       "       [0.5 , 0.55, 0.45, 0.6 , 0.4 , 0.65, 0.35, 0.7 , 0.3 , 0.75, 0.25,\n",
       "        0.8 , 0.2 , 0.85, 0.15, 0.9 , 0.1 , 0.95, 0.05, 1.  ]])"
      ]
     },
     "execution_count": 46,
     "metadata": {},
     "output_type": "execute_result"
    }
   ],
   "source": [
    "scaled_prices = (scaled_array[:,::2] - min_price) / (max_price-min_price)\n",
    "scaled_prices"
   ]
  },
  {
   "cell_type": "code",
   "execution_count": 48,
   "id": "bb29f016",
   "metadata": {},
   "outputs": [
    {
     "data": {
      "text/plain": [
       "array([[4.500e-01, 6.290e+02, 5.500e-01, 1.700e+01, 4.000e-01, 5.980e+02,\n",
       "        6.000e-01, 5.470e+02, 3.500e-01, 1.310e+03, 6.500e-01, 5.610e+02,\n",
       "        3.000e-01, 4.530e+02, 7.000e-01, 5.490e+02, 2.500e-01, 6.800e+02,\n",
       "        7.500e-01, 4.510e+02, 2.000e-01, 7.950e+02, 8.000e-01, 5.400e+02,\n",
       "        1.500e-01, 4.730e+02, 8.500e-01, 3.390e+02, 1.000e-01, 9.060e+02,\n",
       "        9.000e-01, 6.640e+02, 5.000e-02, 1.690e+02, 9.500e-01, 7.620e+02,\n",
       "        0.000e+00, 2.090e+02, 1.000e+00, 1.587e+03],\n",
       "       [4.500e-01, 6.290e+02, 5.500e-01, 1.700e+01, 4.000e-01, 5.980e+02,\n",
       "        6.000e-01, 5.470e+02, 3.500e-01, 1.310e+03, 6.500e-01, 5.610e+02,\n",
       "        3.000e-01, 4.530e+02, 7.000e-01, 5.490e+02, 2.500e-01, 6.800e+02,\n",
       "        7.500e-01, 4.510e+02, 2.000e-01, 7.950e+02, 8.000e-01, 5.400e+02,\n",
       "        1.500e-01, 4.730e+02, 8.500e-01, 3.390e+02, 1.000e-01, 9.060e+02,\n",
       "        9.000e-01, 6.640e+02, 5.000e-02, 1.690e+02, 9.500e-01, 7.620e+02,\n",
       "        0.000e+00, 2.090e+02, 1.000e+00, 1.587e+03],\n",
       "       [4.500e-01, 6.290e+02, 5.500e-01, 1.700e+01, 4.000e-01, 5.660e+02,\n",
       "        6.000e-01, 5.470e+02, 3.500e-01, 1.310e+03, 6.500e-01, 5.610e+02,\n",
       "        3.000e-01, 4.530e+02, 7.000e-01, 5.490e+02, 2.500e-01, 6.800e+02,\n",
       "        7.500e-01, 4.510e+02, 2.000e-01, 7.950e+02, 8.000e-01, 5.400e+02,\n",
       "        1.500e-01, 4.730e+02, 8.500e-01, 3.390e+02, 1.000e-01, 9.060e+02,\n",
       "        9.000e-01, 6.640e+02, 5.000e-02, 1.690e+02, 9.500e-01, 7.620e+02,\n",
       "        0.000e+00, 2.090e+02, 1.000e+00, 1.587e+03],\n",
       "       [5.000e-01, 4.000e+01, 5.500e-01, 1.700e+01, 4.500e-01, 6.290e+02,\n",
       "        6.000e-01, 5.470e+02, 4.000e-01, 5.660e+02, 6.500e-01, 5.610e+02,\n",
       "        3.500e-01, 1.310e+03, 7.000e-01, 5.490e+02, 3.000e-01, 4.530e+02,\n",
       "        7.500e-01, 4.510e+02, 2.500e-01, 6.800e+02, 8.000e-01, 5.400e+02,\n",
       "        2.000e-01, 7.950e+02, 8.500e-01, 3.390e+02, 1.500e-01, 4.730e+02,\n",
       "        9.000e-01, 6.640e+02, 1.000e-01, 9.060e+02, 9.500e-01, 7.620e+02,\n",
       "        5.000e-02, 1.690e+02, 1.000e+00, 1.587e+03],\n",
       "       [5.000e-01, 4.000e+01, 5.500e-01, 1.700e+01, 4.500e-01, 6.290e+02,\n",
       "        6.000e-01, 5.470e+02, 4.000e-01, 5.660e+02, 6.500e-01, 5.610e+02,\n",
       "        3.500e-01, 1.310e+03, 7.000e-01, 5.490e+02, 3.000e-01, 4.530e+02,\n",
       "        7.500e-01, 4.510e+02, 2.500e-01, 6.800e+02, 8.000e-01, 5.400e+02,\n",
       "        2.000e-01, 7.950e+02, 8.500e-01, 3.390e+02, 1.500e-01, 4.730e+02,\n",
       "        9.000e-01, 6.640e+02, 1.000e-01, 9.060e+02, 9.500e-01, 7.620e+02,\n",
       "        5.000e-02, 1.690e+02, 1.000e+00, 1.587e+03],\n",
       "       [5.000e-01, 4.000e+01, 5.500e-01, 1.700e+01, 4.500e-01, 6.590e+02,\n",
       "        6.000e-01, 5.470e+02, 4.000e-01, 5.660e+02, 6.500e-01, 5.610e+02,\n",
       "        3.500e-01, 1.310e+03, 7.000e-01, 5.490e+02, 3.000e-01, 4.530e+02,\n",
       "        7.500e-01, 4.510e+02, 2.500e-01, 6.800e+02, 8.000e-01, 5.400e+02,\n",
       "        2.000e-01, 7.950e+02, 8.500e-01, 3.390e+02, 1.500e-01, 4.730e+02,\n",
       "        9.000e-01, 6.640e+02, 1.000e-01, 9.060e+02, 9.500e-01, 7.620e+02,\n",
       "        5.000e-02, 1.690e+02, 1.000e+00, 1.587e+03],\n",
       "       [5.000e-01, 8.500e+01, 5.500e-01, 1.700e+01, 4.500e-01, 6.590e+02,\n",
       "        6.000e-01, 5.470e+02, 4.000e-01, 5.660e+02, 6.500e-01, 5.610e+02,\n",
       "        3.500e-01, 1.310e+03, 7.000e-01, 5.490e+02, 3.000e-01, 4.530e+02,\n",
       "        7.500e-01, 4.510e+02, 2.500e-01, 6.800e+02, 8.000e-01, 5.400e+02,\n",
       "        2.000e-01, 7.950e+02, 8.500e-01, 3.390e+02, 1.500e-01, 4.730e+02,\n",
       "        9.000e-01, 6.640e+02, 1.000e-01, 9.060e+02, 9.500e-01, 7.620e+02,\n",
       "        5.000e-02, 1.690e+02, 1.000e+00, 1.587e+03],\n",
       "       [5.000e-01, 8.500e+01, 5.500e-01, 1.700e+01, 4.500e-01, 6.590e+02,\n",
       "        6.000e-01, 5.470e+02, 4.000e-01, 5.660e+02, 6.500e-01, 5.610e+02,\n",
       "        3.500e-01, 1.310e+03, 7.000e-01, 5.490e+02, 3.000e-01, 4.530e+02,\n",
       "        7.500e-01, 4.510e+02, 2.500e-01, 6.800e+02, 8.000e-01, 5.400e+02,\n",
       "        2.000e-01, 7.950e+02, 8.500e-01, 3.390e+02, 1.500e-01, 4.730e+02,\n",
       "        9.000e-01, 6.640e+02, 1.000e-01, 9.060e+02, 9.500e-01, 7.620e+02,\n",
       "        5.000e-02, 1.690e+02, 1.000e+00, 1.587e+03],\n",
       "       [5.000e-01, 1.200e+02, 5.500e-01, 1.700e+01, 4.500e-01, 6.590e+02,\n",
       "        6.000e-01, 5.470e+02, 4.000e-01, 5.660e+02, 6.500e-01, 5.610e+02,\n",
       "        3.500e-01, 1.310e+03, 7.000e-01, 5.490e+02, 3.000e-01, 4.530e+02,\n",
       "        7.500e-01, 4.510e+02, 2.500e-01, 6.800e+02, 8.000e-01, 5.400e+02,\n",
       "        2.000e-01, 7.950e+02, 8.500e-01, 3.390e+02, 1.500e-01, 4.730e+02,\n",
       "        9.000e-01, 6.640e+02, 1.000e-01, 9.060e+02, 9.500e-01, 7.620e+02,\n",
       "        5.000e-02, 1.690e+02, 1.000e+00, 1.587e+03],\n",
       "       [5.000e-01, 1.200e+02, 5.500e-01, 1.700e+01, 4.500e-01, 5.200e+02,\n",
       "        6.000e-01, 5.470e+02, 4.000e-01, 5.660e+02, 6.500e-01, 5.610e+02,\n",
       "        3.500e-01, 1.310e+03, 7.000e-01, 5.490e+02, 3.000e-01, 4.530e+02,\n",
       "        7.500e-01, 4.510e+02, 2.500e-01, 6.800e+02, 8.000e-01, 5.400e+02,\n",
       "        2.000e-01, 7.950e+02, 8.500e-01, 3.390e+02, 1.500e-01, 4.730e+02,\n",
       "        9.000e-01, 6.640e+02, 1.000e-01, 9.060e+02, 9.500e-01, 7.620e+02,\n",
       "        5.000e-02, 1.690e+02, 1.000e+00, 1.587e+03]])"
      ]
     },
     "execution_count": 48,
     "metadata": {},
     "output_type": "execute_result"
    }
   ],
   "source": [
    "scaled_array[:,::2] = scaled_prices\n",
    "scaled_array"
   ]
  },
  {
   "cell_type": "markdown",
   "id": "9441de50",
   "metadata": {},
   "source": [
    "### Volume Min Max Scaling"
   ]
  },
  {
   "cell_type": "code",
   "execution_count": 54,
   "id": "49188062",
   "metadata": {},
   "outputs": [
    {
     "data": {
      "text/plain": [
       "17.0"
      ]
     },
     "execution_count": 54,
     "metadata": {},
     "output_type": "execute_result"
    }
   ],
   "source": [
    "min_q = scaled_array[:,1::2].min()\n",
    "min_q"
   ]
  },
  {
   "cell_type": "code",
   "execution_count": 57,
   "id": "7c51c1e2",
   "metadata": {},
   "outputs": [
    {
     "data": {
      "text/plain": [
       "1587.0"
      ]
     },
     "execution_count": 57,
     "metadata": {},
     "output_type": "execute_result"
    }
   ],
   "source": [
    "max_q = scaled_array[:,1::2].max()\n",
    "max_q"
   ]
  },
  {
   "cell_type": "code",
   "execution_count": 58,
   "id": "52c4d1f3",
   "metadata": {},
   "outputs": [],
   "source": [
    "scaled_quantities = (scaled_array[:,1::2] - min_q) / (max_q-min_q)"
   ]
  },
  {
   "cell_type": "code",
   "execution_count": 61,
   "id": "b94baf69",
   "metadata": {},
   "outputs": [
    {
     "data": {
      "text/plain": [
       "array([[0.38980892, 0.        , 0.37006369, 0.33757962, 0.82356688,\n",
       "        0.34649682, 0.27770701, 0.3388535 , 0.42229299, 0.27643312,\n",
       "        0.4955414 , 0.33312102, 0.29044586, 0.20509554, 0.56624204,\n",
       "        0.41210191, 0.09681529, 0.47452229, 0.12229299, 1.        ],\n",
       "       [0.38980892, 0.        , 0.37006369, 0.33757962, 0.82356688,\n",
       "        0.34649682, 0.27770701, 0.3388535 , 0.42229299, 0.27643312,\n",
       "        0.4955414 , 0.33312102, 0.29044586, 0.20509554, 0.56624204,\n",
       "        0.41210191, 0.09681529, 0.47452229, 0.12229299, 1.        ],\n",
       "       [0.38980892, 0.        , 0.34968153, 0.33757962, 0.82356688,\n",
       "        0.34649682, 0.27770701, 0.3388535 , 0.42229299, 0.27643312,\n",
       "        0.4955414 , 0.33312102, 0.29044586, 0.20509554, 0.56624204,\n",
       "        0.41210191, 0.09681529, 0.47452229, 0.12229299, 1.        ],\n",
       "       [0.01464968, 0.        , 0.38980892, 0.33757962, 0.34968153,\n",
       "        0.34649682, 0.82356688, 0.3388535 , 0.27770701, 0.27643312,\n",
       "        0.42229299, 0.33312102, 0.4955414 , 0.20509554, 0.29044586,\n",
       "        0.41210191, 0.56624204, 0.47452229, 0.09681529, 1.        ],\n",
       "       [0.01464968, 0.        , 0.38980892, 0.33757962, 0.34968153,\n",
       "        0.34649682, 0.82356688, 0.3388535 , 0.27770701, 0.27643312,\n",
       "        0.42229299, 0.33312102, 0.4955414 , 0.20509554, 0.29044586,\n",
       "        0.41210191, 0.56624204, 0.47452229, 0.09681529, 1.        ],\n",
       "       [0.01464968, 0.        , 0.4089172 , 0.33757962, 0.34968153,\n",
       "        0.34649682, 0.82356688, 0.3388535 , 0.27770701, 0.27643312,\n",
       "        0.42229299, 0.33312102, 0.4955414 , 0.20509554, 0.29044586,\n",
       "        0.41210191, 0.56624204, 0.47452229, 0.09681529, 1.        ],\n",
       "       [0.0433121 , 0.        , 0.4089172 , 0.33757962, 0.34968153,\n",
       "        0.34649682, 0.82356688, 0.3388535 , 0.27770701, 0.27643312,\n",
       "        0.42229299, 0.33312102, 0.4955414 , 0.20509554, 0.29044586,\n",
       "        0.41210191, 0.56624204, 0.47452229, 0.09681529, 1.        ],\n",
       "       [0.0433121 , 0.        , 0.4089172 , 0.33757962, 0.34968153,\n",
       "        0.34649682, 0.82356688, 0.3388535 , 0.27770701, 0.27643312,\n",
       "        0.42229299, 0.33312102, 0.4955414 , 0.20509554, 0.29044586,\n",
       "        0.41210191, 0.56624204, 0.47452229, 0.09681529, 1.        ],\n",
       "       [0.0656051 , 0.        , 0.4089172 , 0.33757962, 0.34968153,\n",
       "        0.34649682, 0.82356688, 0.3388535 , 0.27770701, 0.27643312,\n",
       "        0.42229299, 0.33312102, 0.4955414 , 0.20509554, 0.29044586,\n",
       "        0.41210191, 0.56624204, 0.47452229, 0.09681529, 1.        ],\n",
       "       [0.0656051 , 0.        , 0.32038217, 0.33757962, 0.34968153,\n",
       "        0.34649682, 0.82356688, 0.3388535 , 0.27770701, 0.27643312,\n",
       "        0.42229299, 0.33312102, 0.4955414 , 0.20509554, 0.29044586,\n",
       "        0.41210191, 0.56624204, 0.47452229, 0.09681529, 1.        ]])"
      ]
     },
     "execution_count": 61,
     "metadata": {},
     "output_type": "execute_result"
    }
   ],
   "source": [
    "# overwrite array with scaled values\n",
    "scaled_array[:,1::2] = scaled_quantities\n",
    "scaled_array[:,1::2]"
   ]
  },
  {
   "cell_type": "code",
   "execution_count": 71,
   "id": "d7f6b4eb",
   "metadata": {},
   "outputs": [
    {
     "data": {
      "image/png": "[encoded data removed]",
      "text/plain": [
       "<Figure size 432x288 with 1 Axes>"
      ]
     },
     "metadata": {
      "needs_background": "light"
     },
     "output_type": "display_data"
    }
   ],
   "source": [
    "# data is now scaled between 0 and 1\n",
    "plt.hist(scaled_array);"
   ]
  },
  {
   "cell_type": "code",
   "execution_count": 207,
   "id": "b8902979",
   "metadata": {},
   "outputs": [
    {
     "data": {
      "text/html": [
       "<div>\n",
       "<style scoped>\n",
       "    .dataframe tbody tr th:only-of-type {\n",
       "        vertical-align: middle;\n",
       "    }\n",
       "\n",
       "    .dataframe tbody tr th {\n",
       "        vertical-align: top;\n",
       "    }\n",
       "\n",
       "    .dataframe thead th {\n",
       "        text-align: right;\n",
       "    }\n",
       "</style>\n",
       "<table border=\"1\" class=\"dataframe\">\n",
       "  <thead>\n",
       "    <tr style=\"text-align: right;\">\n",
       "      <th></th>\n",
       "      <th>0</th>\n",
       "      <th>1</th>\n",
       "      <th>2</th>\n",
       "      <th>3</th>\n",
       "      <th>4</th>\n",
       "      <th>5</th>\n",
       "      <th>6</th>\n",
       "      <th>7</th>\n",
       "      <th>8</th>\n",
       "      <th>9</th>\n",
       "      <th>...</th>\n",
       "      <th>30</th>\n",
       "      <th>31</th>\n",
       "      <th>32</th>\n",
       "      <th>33</th>\n",
       "      <th>34</th>\n",
       "      <th>35</th>\n",
       "      <th>36</th>\n",
       "      <th>37</th>\n",
       "      <th>38</th>\n",
       "      <th>39</th>\n",
       "    </tr>\n",
       "  </thead>\n",
       "  <tbody>\n",
       "    <tr>\n",
       "      <th>0</th>\n",
       "      <td>0.45</td>\n",
       "      <td>0.389809</td>\n",
       "      <td>0.55</td>\n",
       "      <td>0.0</td>\n",
       "      <td>0.40</td>\n",
       "      <td>0.370064</td>\n",
       "      <td>0.6</td>\n",
       "      <td>0.33758</td>\n",
       "      <td>0.35</td>\n",
       "      <td>0.823567</td>\n",
       "      <td>...</td>\n",
       "      <td>0.9</td>\n",
       "      <td>0.412102</td>\n",
       "      <td>0.05</td>\n",
       "      <td>0.096815</td>\n",
       "      <td>0.95</td>\n",
       "      <td>0.474522</td>\n",
       "      <td>0.00</td>\n",
       "      <td>0.122293</td>\n",
       "      <td>1.0</td>\n",
       "      <td>1.0</td>\n",
       "    </tr>\n",
       "    <tr>\n",
       "      <th>1</th>\n",
       "      <td>0.45</td>\n",
       "      <td>0.389809</td>\n",
       "      <td>0.55</td>\n",
       "      <td>0.0</td>\n",
       "      <td>0.40</td>\n",
       "      <td>0.370064</td>\n",
       "      <td>0.6</td>\n",
       "      <td>0.33758</td>\n",
       "      <td>0.35</td>\n",
       "      <td>0.823567</td>\n",
       "      <td>...</td>\n",
       "      <td>0.9</td>\n",
       "      <td>0.412102</td>\n",
       "      <td>0.05</td>\n",
       "      <td>0.096815</td>\n",
       "      <td>0.95</td>\n",
       "      <td>0.474522</td>\n",
       "      <td>0.00</td>\n",
       "      <td>0.122293</td>\n",
       "      <td>1.0</td>\n",
       "      <td>1.0</td>\n",
       "    </tr>\n",
       "    <tr>\n",
       "      <th>2</th>\n",
       "      <td>0.45</td>\n",
       "      <td>0.389809</td>\n",
       "      <td>0.55</td>\n",
       "      <td>0.0</td>\n",
       "      <td>0.40</td>\n",
       "      <td>0.349682</td>\n",
       "      <td>0.6</td>\n",
       "      <td>0.33758</td>\n",
       "      <td>0.35</td>\n",
       "      <td>0.823567</td>\n",
       "      <td>...</td>\n",
       "      <td>0.9</td>\n",
       "      <td>0.412102</td>\n",
       "      <td>0.05</td>\n",
       "      <td>0.096815</td>\n",
       "      <td>0.95</td>\n",
       "      <td>0.474522</td>\n",
       "      <td>0.00</td>\n",
       "      <td>0.122293</td>\n",
       "      <td>1.0</td>\n",
       "      <td>1.0</td>\n",
       "    </tr>\n",
       "    <tr>\n",
       "      <th>3</th>\n",
       "      <td>0.50</td>\n",
       "      <td>0.014650</td>\n",
       "      <td>0.55</td>\n",
       "      <td>0.0</td>\n",
       "      <td>0.45</td>\n",
       "      <td>0.389809</td>\n",
       "      <td>0.6</td>\n",
       "      <td>0.33758</td>\n",
       "      <td>0.40</td>\n",
       "      <td>0.349682</td>\n",
       "      <td>...</td>\n",
       "      <td>0.9</td>\n",
       "      <td>0.412102</td>\n",
       "      <td>0.10</td>\n",
       "      <td>0.566242</td>\n",
       "      <td>0.95</td>\n",
       "      <td>0.474522</td>\n",
       "      <td>0.05</td>\n",
       "      <td>0.096815</td>\n",
       "      <td>1.0</td>\n",
       "      <td>1.0</td>\n",
       "    </tr>\n",
       "    <tr>\n",
       "      <th>4</th>\n",
       "      <td>0.50</td>\n",
       "      <td>0.014650</td>\n",
       "      <td>0.55</td>\n",
       "      <td>0.0</td>\n",
       "      <td>0.45</td>\n",
       "      <td>0.389809</td>\n",
       "      <td>0.6</td>\n",
       "      <td>0.33758</td>\n",
       "      <td>0.40</td>\n",
       "      <td>0.349682</td>\n",
       "      <td>...</td>\n",
       "      <td>0.9</td>\n",
       "      <td>0.412102</td>\n",
       "      <td>0.10</td>\n",
       "      <td>0.566242</td>\n",
       "      <td>0.95</td>\n",
       "      <td>0.474522</td>\n",
       "      <td>0.05</td>\n",
       "      <td>0.096815</td>\n",
       "      <td>1.0</td>\n",
       "      <td>1.0</td>\n",
       "    </tr>\n",
       "    <tr>\n",
       "      <th>5</th>\n",
       "      <td>0.50</td>\n",
       "      <td>0.014650</td>\n",
       "      <td>0.55</td>\n",
       "      <td>0.0</td>\n",
       "      <td>0.45</td>\n",
       "      <td>0.408917</td>\n",
       "      <td>0.6</td>\n",
       "      <td>0.33758</td>\n",
       "      <td>0.40</td>\n",
       "      <td>0.349682</td>\n",
       "      <td>...</td>\n",
       "      <td>0.9</td>\n",
       "      <td>0.412102</td>\n",
       "      <td>0.10</td>\n",
       "      <td>0.566242</td>\n",
       "      <td>0.95</td>\n",
       "      <td>0.474522</td>\n",
       "      <td>0.05</td>\n",
       "      <td>0.096815</td>\n",
       "      <td>1.0</td>\n",
       "      <td>1.0</td>\n",
       "    </tr>\n",
       "    <tr>\n",
       "      <th>6</th>\n",
       "      <td>0.50</td>\n",
       "      <td>0.043312</td>\n",
       "      <td>0.55</td>\n",
       "      <td>0.0</td>\n",
       "      <td>0.45</td>\n",
       "      <td>0.408917</td>\n",
       "      <td>0.6</td>\n",
       "      <td>0.33758</td>\n",
       "      <td>0.40</td>\n",
       "      <td>0.349682</td>\n",
       "      <td>...</td>\n",
       "      <td>0.9</td>\n",
       "      <td>0.412102</td>\n",
       "      <td>0.10</td>\n",
       "      <td>0.566242</td>\n",
       "      <td>0.95</td>\n",
       "      <td>0.474522</td>\n",
       "      <td>0.05</td>\n",
       "      <td>0.096815</td>\n",
       "      <td>1.0</td>\n",
       "      <td>1.0</td>\n",
       "    </tr>\n",
       "    <tr>\n",
       "      <th>7</th>\n",
       "      <td>0.50</td>\n",
       "      <td>0.043312</td>\n",
       "      <td>0.55</td>\n",
       "      <td>0.0</td>\n",
       "      <td>0.45</td>\n",
       "      <td>0.408917</td>\n",
       "      <td>0.6</td>\n",
       "      <td>0.33758</td>\n",
       "      <td>0.40</td>\n",
       "      <td>0.349682</td>\n",
       "      <td>...</td>\n",
       "      <td>0.9</td>\n",
       "      <td>0.412102</td>\n",
       "      <td>0.10</td>\n",
       "      <td>0.566242</td>\n",
       "      <td>0.95</td>\n",
       "      <td>0.474522</td>\n",
       "      <td>0.05</td>\n",
       "      <td>0.096815</td>\n",
       "      <td>1.0</td>\n",
       "      <td>1.0</td>\n",
       "    </tr>\n",
       "    <tr>\n",
       "      <th>8</th>\n",
       "      <td>0.50</td>\n",
       "      <td>0.065605</td>\n",
       "      <td>0.55</td>\n",
       "      <td>0.0</td>\n",
       "      <td>0.45</td>\n",
       "      <td>0.408917</td>\n",
       "      <td>0.6</td>\n",
       "      <td>0.33758</td>\n",
       "      <td>0.40</td>\n",
       "      <td>0.349682</td>\n",
       "      <td>...</td>\n",
       "      <td>0.9</td>\n",
       "      <td>0.412102</td>\n",
       "      <td>0.10</td>\n",
       "      <td>0.566242</td>\n",
       "      <td>0.95</td>\n",
       "      <td>0.474522</td>\n",
       "      <td>0.05</td>\n",
       "      <td>0.096815</td>\n",
       "      <td>1.0</td>\n",
       "      <td>1.0</td>\n",
       "    </tr>\n",
       "    <tr>\n",
       "      <th>9</th>\n",
       "      <td>0.50</td>\n",
       "      <td>0.065605</td>\n",
       "      <td>0.55</td>\n",
       "      <td>0.0</td>\n",
       "      <td>0.45</td>\n",
       "      <td>0.320382</td>\n",
       "      <td>0.6</td>\n",
       "      <td>0.33758</td>\n",
       "      <td>0.40</td>\n",
       "      <td>0.349682</td>\n",
       "      <td>...</td>\n",
       "      <td>0.9</td>\n",
       "      <td>0.412102</td>\n",
       "      <td>0.10</td>\n",
       "      <td>0.566242</td>\n",
       "      <td>0.95</td>\n",
       "      <td>0.474522</td>\n",
       "      <td>0.05</td>\n",
       "      <td>0.096815</td>\n",
       "      <td>1.0</td>\n",
       "      <td>1.0</td>\n",
       "    </tr>\n",
       "  </tbody>\n",
       "</table>\n",
       "<p>10 rows × 40 columns</p>\n",
       "</div>"
      ],
      "text/plain": [
       "     0         1     2    3     4         5    6        7     8         9   \\\n",
       "0  0.45  0.389809  0.55  0.0  0.40  0.370064  0.6  0.33758  0.35  0.823567   \n",
       "1  0.45  0.389809  0.55  0.0  0.40  0.370064  0.6  0.33758  0.35  0.823567   \n",
       "2  0.45  0.389809  0.55  0.0  0.40  0.349682  0.6  0.33758  0.35  0.823567   \n",
       "3  0.50  0.014650  0.55  0.0  0.45  0.389809  0.6  0.33758  0.40  0.349682   \n",
       "4  0.50  0.014650  0.55  0.0  0.45  0.389809  0.6  0.33758  0.40  0.349682   \n",
       "5  0.50  0.014650  0.55  0.0  0.45  0.408917  0.6  0.33758  0.40  0.349682   \n",
       "6  0.50  0.043312  0.55  0.0  0.45  0.408917  0.6  0.33758  0.40  0.349682   \n",
       "7  0.50  0.043312  0.55  0.0  0.45  0.408917  0.6  0.33758  0.40  0.349682   \n",
       "8  0.50  0.065605  0.55  0.0  0.45  0.408917  0.6  0.33758  0.40  0.349682   \n",
       "9  0.50  0.065605  0.55  0.0  0.45  0.320382  0.6  0.33758  0.40  0.349682   \n",
       "\n",
       "   ...   30        31    32        33    34        35    36        37   38  \\\n",
       "0  ...  0.9  0.412102  0.05  0.096815  0.95  0.474522  0.00  0.122293  1.0   \n",
       "1  ...  0.9  0.412102  0.05  0.096815  0.95  0.474522  0.00  0.122293  1.0   \n",
       "2  ...  0.9  0.412102  0.05  0.096815  0.95  0.474522  0.00  0.122293  1.0   \n",
       "3  ...  0.9  0.412102  0.10  0.566242  0.95  0.474522  0.05  0.096815  1.0   \n",
       "4  ...  0.9  0.412102  0.10  0.566242  0.95  0.474522  0.05  0.096815  1.0   \n",
       "5  ...  0.9  0.412102  0.10  0.566242  0.95  0.474522  0.05  0.096815  1.0   \n",
       "6  ...  0.9  0.412102  0.10  0.566242  0.95  0.474522  0.05  0.096815  1.0   \n",
       "7  ...  0.9  0.412102  0.10  0.566242  0.95  0.474522  0.05  0.096815  1.0   \n",
       "8  ...  0.9  0.412102  0.10  0.566242  0.95  0.474522  0.05  0.096815  1.0   \n",
       "9  ...  0.9  0.412102  0.10  0.566242  0.95  0.474522  0.05  0.096815  1.0   \n",
       "\n",
       "    39  \n",
       "0  1.0  \n",
       "1  1.0  \n",
       "2  1.0  \n",
       "3  1.0  \n",
       "4  1.0  \n",
       "5  1.0  \n",
       "6  1.0  \n",
       "7  1.0  \n",
       "8  1.0  \n",
       "9  1.0  \n",
       "\n",
       "[10 rows x 40 columns]"
      ]
     },
     "execution_count": 207,
     "metadata": {},
     "output_type": "execute_result"
    }
   ],
   "source": [
    "pd.DataFrame(scaled_array)"
   ]
  },
  {
   "cell_type": "markdown",
   "id": "5fb8a4a0",
   "metadata": {},
   "source": [
    "### Quote Imbalance for best bid and best ask"
   ]
  },
  {
   "cell_type": "code",
   "execution_count": 106,
   "id": "af9a2df7",
   "metadata": {},
   "outputs": [],
   "source": [
    "# (bs - as) / (as + bs)\n",
    "# positive if bid_size_quote > ask_side_quote\n",
    "# negative if bid_size_quote < ask_side_quote\n",
    "# automatically scaled between [-1,1]"
   ]
  },
  {
   "cell_type": "code",
   "execution_count": 107,
   "id": "54ec5eae",
   "metadata": {},
   "outputs": [
    {
     "data": {
      "text/plain": [
       "array([629., 629., 629.,  40.,  40.,  40.,  85.,  85., 120., 120.])"
      ]
     },
     "execution_count": 107,
     "metadata": {},
     "output_type": "execute_result"
    }
   ],
   "source": [
    "# bid side quote\n",
    "bid_side_quote = array[:,1]\n",
    "bid_side_quote"
   ]
  },
  {
   "cell_type": "code",
   "execution_count": 108,
   "id": "ae0194bd",
   "metadata": {},
   "outputs": [
    {
     "data": {
      "text/plain": [
       "array([17., 17., 17., 17., 17., 17., 17., 17., 17., 17.])"
      ]
     },
     "execution_count": 108,
     "metadata": {},
     "output_type": "execute_result"
    }
   ],
   "source": [
    "ask_side_quote = array[:,3]\n",
    "ask_side_quote"
   ]
  },
  {
   "cell_type": "code",
   "execution_count": 109,
   "id": "5ef9113e",
   "metadata": {},
   "outputs": [
    {
     "data": {
      "text/plain": [
       "array([0.94736842, 0.94736842, 0.94736842, 0.40350877, 0.40350877,\n",
       "       0.40350877, 0.66666667, 0.66666667, 0.75182482, 0.75182482])"
      ]
     },
     "execution_count": 109,
     "metadata": {},
     "output_type": "execute_result"
    }
   ],
   "source": [
    "quote_imbalance = (bid_side_quote-ask_side_quote)/(bid_side_quote+ask_side_quote)\n",
    "quote_imbalance"
   ]
  },
  {
   "cell_type": "code",
   "execution_count": 110,
   "id": "d459300d",
   "metadata": {},
   "outputs": [],
   "source": [
    "# TODO: Should I scale it between 0 and 1?"
   ]
  },
  {
   "cell_type": "code",
   "execution_count": 111,
   "id": "e7d9b8f7",
   "metadata": {},
   "outputs": [
    {
     "data": {
      "text/plain": [
       "array([0.97368421, 0.97368421, 0.97368421, 0.70175439, 0.70175439,\n",
       "       0.70175439, 0.83333333, 0.83333333, 0.87591241, 0.87591241])"
      ]
     },
     "execution_count": 111,
     "metadata": {},
     "output_type": "execute_result"
    }
   ],
   "source": [
    "max_value=1\n",
    "min_value=-1\n",
    "quote_imbalance_scaled = (quote_imbalance - min_value) / (max_value-min_value)\n",
    "quote_imbalance_scaled"
   ]
  },
  {
   "cell_type": "markdown",
   "id": "8ae1ce9f",
   "metadata": {},
   "source": [
    "### Quote Imbalance for all levels"
   ]
  },
  {
   "cell_type": "code",
   "execution_count": 194,
   "id": "1c7bb377",
   "metadata": {},
   "outputs": [],
   "source": [
    "bid_quantities = array[:,1::4]\n",
    "ask_quantities = array[:,3::4]"
   ]
  },
  {
   "cell_type": "code",
   "execution_count": 200,
   "id": "c90d9561",
   "metadata": {},
   "outputs": [
    {
     "data": {
      "text/plain": [
       "array([[ 0.94736842,  0.04454148,  0.40032068, -0.09580838,  0.20247569,\n",
       "         0.19101124,  0.16502463,  0.15414013, -0.63694952, -0.76726058],\n",
       "       [ 0.94736842,  0.04454148,  0.40032068, -0.09580838,  0.20247569,\n",
       "         0.19101124,  0.16502463,  0.15414013, -0.63694952, -0.76726058],\n",
       "       [ 0.94736842,  0.01707098,  0.40032068, -0.09580838,  0.20247569,\n",
       "         0.19101124,  0.16502463,  0.15414013, -0.63694952, -0.76726058],\n",
       "       [ 0.40350877,  0.06972789,  0.00443656,  0.40935987,  0.00221239,\n",
       "         0.1147541 ,  0.4021164 , -0.16798593,  0.08633094, -0.80751708],\n",
       "       [ 0.40350877,  0.06972789,  0.00443656,  0.40935987,  0.00221239,\n",
       "         0.1147541 ,  0.4021164 , -0.16798593,  0.08633094, -0.80751708],\n",
       "       [ 0.40350877,  0.09286899,  0.00443656,  0.40935987,  0.00221239,\n",
       "         0.1147541 ,  0.4021164 , -0.16798593,  0.08633094, -0.80751708],\n",
       "       [ 0.66666667,  0.09286899,  0.00443656,  0.40935987,  0.00221239,\n",
       "         0.1147541 ,  0.4021164 , -0.16798593,  0.08633094, -0.80751708],\n",
       "       [ 0.66666667,  0.09286899,  0.00443656,  0.40935987,  0.00221239,\n",
       "         0.1147541 ,  0.4021164 , -0.16798593,  0.08633094, -0.80751708],\n",
       "       [ 0.75182482,  0.09286899,  0.00443656,  0.40935987,  0.00221239,\n",
       "         0.1147541 ,  0.4021164 , -0.16798593,  0.08633094, -0.80751708],\n",
       "       [ 0.75182482, -0.02530459,  0.00443656,  0.40935987,  0.00221239,\n",
       "         0.1147541 ,  0.4021164 , -0.16798593,  0.08633094, -0.80751708]])"
      ]
     },
     "execution_count": 200,
     "metadata": {},
     "output_type": "execute_result"
    }
   ],
   "source": [
    "quote_imbalance_all_levels = (bid_quantities - ask_quantities) / (bid_quantities + ask_quantities)\n",
    "quote_imbalance_all_levels"
   ]
  },
  {
   "cell_type": "code",
   "execution_count": 197,
   "id": "a6b1597d",
   "metadata": {},
   "outputs": [
    {
     "data": {
      "text/plain": [
       "array([1.        , 0.88888889, 0.77777778, 0.66666667, 0.55555556,\n",
       "       0.44444444, 0.33333333, 0.22222222, 0.11111111, 0.        ])"
      ]
     },
     "execution_count": 197,
     "metadata": {},
     "output_type": "execute_result"
    }
   ],
   "source": [
    "# One possibility would be to apply weights:\n",
    "weights = np.linspace(1, 0, 10)\n",
    "weights"
   ]
  },
  {
   "cell_type": "code",
   "execution_count": 199,
   "id": "53408c23",
   "metadata": {},
   "outputs": [
    {
     "data": {
      "text/plain": [
       "array([[1.        , 0.88888889, 0.77777778, 0.66666667, 0.55555556,\n",
       "        0.44444444, 0.33333333, 0.22222222, 0.11111111, 0.        ],\n",
       "       [1.        , 0.88888889, 0.77777778, 0.66666667, 0.55555556,\n",
       "        0.44444444, 0.33333333, 0.22222222, 0.11111111, 0.        ],\n",
       "       [1.        , 0.88888889, 0.77777778, 0.66666667, 0.55555556,\n",
       "        0.44444444, 0.33333333, 0.22222222, 0.11111111, 0.        ],\n",
       "       [1.        , 0.88888889, 0.77777778, 0.66666667, 0.55555556,\n",
       "        0.44444444, 0.33333333, 0.22222222, 0.11111111, 0.        ],\n",
       "       [1.        , 0.88888889, 0.77777778, 0.66666667, 0.55555556,\n",
       "        0.44444444, 0.33333333, 0.22222222, 0.11111111, 0.        ],\n",
       "       [1.        , 0.88888889, 0.77777778, 0.66666667, 0.55555556,\n",
       "        0.44444444, 0.33333333, 0.22222222, 0.11111111, 0.        ],\n",
       "       [1.        , 0.88888889, 0.77777778, 0.66666667, 0.55555556,\n",
       "        0.44444444, 0.33333333, 0.22222222, 0.11111111, 0.        ],\n",
       "       [1.        , 0.88888889, 0.77777778, 0.66666667, 0.55555556,\n",
       "        0.44444444, 0.33333333, 0.22222222, 0.11111111, 0.        ],\n",
       "       [1.        , 0.88888889, 0.77777778, 0.66666667, 0.55555556,\n",
       "        0.44444444, 0.33333333, 0.22222222, 0.11111111, 0.        ],\n",
       "       [1.        , 0.88888889, 0.77777778, 0.66666667, 0.55555556,\n",
       "        0.44444444, 0.33333333, 0.22222222, 0.11111111, 0.        ]])"
      ]
     },
     "execution_count": 199,
     "metadata": {},
     "output_type": "execute_result"
    }
   ],
   "source": [
    "new_weights = np.tile(weights,(10,1))\n",
    "new_weights"
   ]
  },
  {
   "cell_type": "code",
   "execution_count": 201,
   "id": "108cca33",
   "metadata": {},
   "outputs": [
    {
     "data": {
      "text/plain": [
       "array([[ 0.94736842,  0.03959243,  0.31136053, -0.06387226,  0.11248649,\n",
       "         0.08489388,  0.05500821,  0.03425336, -0.07077217, -0.        ],\n",
       "       [ 0.94736842,  0.03959243,  0.31136053, -0.06387226,  0.11248649,\n",
       "         0.08489388,  0.05500821,  0.03425336, -0.07077217, -0.        ],\n",
       "       [ 0.94736842,  0.0151742 ,  0.31136053, -0.06387226,  0.11248649,\n",
       "         0.08489388,  0.05500821,  0.03425336, -0.07077217, -0.        ],\n",
       "       [ 0.40350877,  0.06198035,  0.00345066,  0.27290658,  0.00122911,\n",
       "         0.05100182,  0.1340388 , -0.03733021,  0.00959233, -0.        ],\n",
       "       [ 0.40350877,  0.06198035,  0.00345066,  0.27290658,  0.00122911,\n",
       "         0.05100182,  0.1340388 , -0.03733021,  0.00959233, -0.        ],\n",
       "       [ 0.40350877,  0.08255021,  0.00345066,  0.27290658,  0.00122911,\n",
       "         0.05100182,  0.1340388 , -0.03733021,  0.00959233, -0.        ],\n",
       "       [ 0.66666667,  0.08255021,  0.00345066,  0.27290658,  0.00122911,\n",
       "         0.05100182,  0.1340388 , -0.03733021,  0.00959233, -0.        ],\n",
       "       [ 0.66666667,  0.08255021,  0.00345066,  0.27290658,  0.00122911,\n",
       "         0.05100182,  0.1340388 , -0.03733021,  0.00959233, -0.        ],\n",
       "       [ 0.75182482,  0.08255021,  0.00345066,  0.27290658,  0.00122911,\n",
       "         0.05100182,  0.1340388 , -0.03733021,  0.00959233, -0.        ],\n",
       "       [ 0.75182482, -0.02249297,  0.00345066,  0.27290658,  0.00122911,\n",
       "         0.05100182,  0.1340388 , -0.03733021,  0.00959233, -0.        ]])"
      ]
     },
     "execution_count": 201,
     "metadata": {},
     "output_type": "execute_result"
    }
   ],
   "source": [
    "new_weights*quote_imbalance_all_levels"
   ]
  },
  {
   "cell_type": "code",
   "execution_count": 205,
   "id": "dc9166bf",
   "metadata": {},
   "outputs": [
    {
     "data": {
      "text/plain": [
       "array([1.45031891, 1.45031891, 1.42590068, 0.9003782 , 0.9003782 ,\n",
       "       0.92094807, 1.18410596, 1.18410596, 1.26926411, 1.16422093])"
      ]
     },
     "execution_count": 205,
     "metadata": {},
     "output_type": "execute_result"
    }
   ],
   "source": [
    "# sum row wise\n",
    "np.sum(new_weights*quote_imbalance_all_levels, axis=1)"
   ]
  },
  {
   "cell_type": "code",
   "execution_count": null,
   "id": "225348b2",
   "metadata": {},
   "outputs": [],
   "source": []
  },
  {
   "cell_type": "code",
   "execution_count": null,
   "id": "f56fb2f3",
   "metadata": {},
   "outputs": [],
   "source": []
  },
  {
   "cell_type": "code",
   "execution_count": null,
   "id": "c812269b",
   "metadata": {},
   "outputs": [],
   "source": []
  },
  {
   "cell_type": "markdown",
   "id": "88e8737f",
   "metadata": {},
   "source": [
    "### Orderbook Imbalance"
   ]
  },
  {
   "cell_type": "code",
   "execution_count": 116,
   "id": "6033fbea",
   "metadata": {},
   "outputs": [
    {
     "data": {
      "text/plain": [
       "array([[ 629.,   17.,  598.,  547., 1310.,  561.,  453.,  549.,  680.,\n",
       "         451.,  795.,  540.,  473.,  339.,  906.,  664.,  169.,  762.,\n",
       "         209., 1587.],\n",
       "       [ 629.,   17.,  598.,  547., 1310.,  561.,  453.,  549.,  680.,\n",
       "         451.,  795.,  540.,  473.,  339.,  906.,  664.,  169.,  762.,\n",
       "         209., 1587.],\n",
       "       [ 629.,   17.,  566.,  547., 1310.,  561.,  453.,  549.,  680.,\n",
       "         451.,  795.,  540.,  473.,  339.,  906.,  664.,  169.,  762.,\n",
       "         209., 1587.],\n",
       "       [  40.,   17.,  629.,  547.,  566.,  561., 1310.,  549.,  453.,\n",
       "         451.,  680.,  540.,  795.,  339.,  473.,  664.,  906.,  762.,\n",
       "         169., 1587.],\n",
       "       [  40.,   17.,  629.,  547.,  566.,  561., 1310.,  549.,  453.,\n",
       "         451.,  680.,  540.,  795.,  339.,  473.,  664.,  906.,  762.,\n",
       "         169., 1587.],\n",
       "       [  40.,   17.,  659.,  547.,  566.,  561., 1310.,  549.,  453.,\n",
       "         451.,  680.,  540.,  795.,  339.,  473.,  664.,  906.,  762.,\n",
       "         169., 1587.],\n",
       "       [  85.,   17.,  659.,  547.,  566.,  561., 1310.,  549.,  453.,\n",
       "         451.,  680.,  540.,  795.,  339.,  473.,  664.,  906.,  762.,\n",
       "         169., 1587.],\n",
       "       [  85.,   17.,  659.,  547.,  566.,  561., 1310.,  549.,  453.,\n",
       "         451.,  680.,  540.,  795.,  339.,  473.,  664.,  906.,  762.,\n",
       "         169., 1587.],\n",
       "       [ 120.,   17.,  659.,  547.,  566.,  561., 1310.,  549.,  453.,\n",
       "         451.,  680.,  540.,  795.,  339.,  473.,  664.,  906.,  762.,\n",
       "         169., 1587.],\n",
       "       [ 120.,   17.,  520.,  547.,  566.,  561., 1310.,  549.,  453.,\n",
       "         451.,  680.,  540.,  795.,  339.,  473.,  664.,  906.,  762.,\n",
       "         169., 1587.]])"
      ]
     },
     "execution_count": 116,
     "metadata": {},
     "output_type": "execute_result"
    }
   ],
   "source": [
    "# all quantities\n",
    "array[:,1::2]"
   ]
  },
  {
   "cell_type": "code",
   "execution_count": 132,
   "id": "07f2099b",
   "metadata": {},
   "outputs": [
    {
     "data": {
      "text/plain": [
       "array([[ 629.,  598., 1310.,  453.,  680.,  795.,  473.,  906.,  169.,\n",
       "         209.],\n",
       "       [ 629.,  598., 1310.,  453.,  680.,  795.,  473.,  906.,  169.,\n",
       "         209.],\n",
       "       [ 629.,  566., 1310.,  453.,  680.,  795.,  473.,  906.,  169.,\n",
       "         209.],\n",
       "       [  40.,  629.,  566., 1310.,  453.,  680.,  795.,  473.,  906.,\n",
       "         169.],\n",
       "       [  40.,  629.,  566., 1310.,  453.,  680.,  795.,  473.,  906.,\n",
       "         169.],\n",
       "       [  40.,  659.,  566., 1310.,  453.,  680.,  795.,  473.,  906.,\n",
       "         169.],\n",
       "       [  85.,  659.,  566., 1310.,  453.,  680.,  795.,  473.,  906.,\n",
       "         169.],\n",
       "       [  85.,  659.,  566., 1310.,  453.,  680.,  795.,  473.,  906.,\n",
       "         169.],\n",
       "       [ 120.,  659.,  566., 1310.,  453.,  680.,  795.,  473.,  906.,\n",
       "         169.],\n",
       "       [ 120.,  520.,  566., 1310.,  453.,  680.,  795.,  473.,  906.,\n",
       "         169.]])"
      ]
     },
     "execution_count": 132,
     "metadata": {},
     "output_type": "execute_result"
    }
   ],
   "source": [
    "# all bid quantities\n",
    "bid_quantities = array[:,1::4]\n",
    "bid_quantities"
   ]
  },
  {
   "cell_type": "code",
   "execution_count": 133,
   "id": "6a3a05be",
   "metadata": {},
   "outputs": [
    {
     "data": {
      "text/plain": [
       "array([[  17.,  547.,  561.,  549.,  451.,  540.,  339.,  664.,  762.,\n",
       "        1587.],\n",
       "       [  17.,  547.,  561.,  549.,  451.,  540.,  339.,  664.,  762.,\n",
       "        1587.],\n",
       "       [  17.,  547.,  561.,  549.,  451.,  540.,  339.,  664.,  762.,\n",
       "        1587.],\n",
       "       [  17.,  547.,  561.,  549.,  451.,  540.,  339.,  664.,  762.,\n",
       "        1587.],\n",
       "       [  17.,  547.,  561.,  549.,  451.,  540.,  339.,  664.,  762.,\n",
       "        1587.],\n",
       "       [  17.,  547.,  561.,  549.,  451.,  540.,  339.,  664.,  762.,\n",
       "        1587.],\n",
       "       [  17.,  547.,  561.,  549.,  451.,  540.,  339.,  664.,  762.,\n",
       "        1587.],\n",
       "       [  17.,  547.,  561.,  549.,  451.,  540.,  339.,  664.,  762.,\n",
       "        1587.],\n",
       "       [  17.,  547.,  561.,  549.,  451.,  540.,  339.,  664.,  762.,\n",
       "        1587.],\n",
       "       [  17.,  547.,  561.,  549.,  451.,  540.,  339.,  664.,  762.,\n",
       "        1587.]])"
      ]
     },
     "execution_count": 133,
     "metadata": {},
     "output_type": "execute_result"
    }
   ],
   "source": [
    "# all ask quantities\n",
    "ask_quantities = array[:,3::4]\n",
    "ask_quantities"
   ]
  },
  {
   "cell_type": "code",
   "execution_count": 140,
   "id": "d0949c8f",
   "metadata": {},
   "outputs": [
    {
     "data": {
      "text/plain": [
       "205.0"
      ]
     },
     "execution_count": 140,
     "metadata": {},
     "output_type": "execute_result"
    }
   ],
   "source": [
    "sum([612.,    51.,   749.,   -96.,   229.,   255.,   134.,   242., -593., -1378.])"
   ]
  },
  {
   "cell_type": "code",
   "execution_count": 137,
   "id": "6d5512f7",
   "metadata": {},
   "outputs": [
    {
     "data": {
      "text/plain": [
       "array([[  612.,    51.,   749.,   -96.,   229.,   255.,   134.,   242.,\n",
       "         -593., -1378.],\n",
       "       [  612.,    51.,   749.,   -96.,   229.,   255.,   134.,   242.,\n",
       "         -593., -1378.],\n",
       "       [  612.,    19.,   749.,   -96.,   229.,   255.,   134.,   242.,\n",
       "         -593., -1378.],\n",
       "       [   23.,    82.,     5.,   761.,     2.,   140.,   456.,  -191.,\n",
       "          144., -1418.],\n",
       "       [   23.,    82.,     5.,   761.,     2.,   140.,   456.,  -191.,\n",
       "          144., -1418.],\n",
       "       [   23.,   112.,     5.,   761.,     2.,   140.,   456.,  -191.,\n",
       "          144., -1418.],\n",
       "       [   68.,   112.,     5.,   761.,     2.,   140.,   456.,  -191.,\n",
       "          144., -1418.],\n",
       "       [   68.,   112.,     5.,   761.,     2.,   140.,   456.,  -191.,\n",
       "          144., -1418.],\n",
       "       [  103.,   112.,     5.,   761.,     2.,   140.,   456.,  -191.,\n",
       "          144., -1418.],\n",
       "       [  103.,   -27.,     5.,   761.,     2.,   140.,   456.,  -191.,\n",
       "          144., -1418.]])"
      ]
     },
     "execution_count": 137,
     "metadata": {},
     "output_type": "execute_result"
    }
   ],
   "source": [
    "# difference:\n",
    "bid_quantities - ask_quantities"
   ]
  },
  {
   "cell_type": "code",
   "execution_count": 144,
   "id": "7075a609",
   "metadata": {},
   "outputs": [
    {
     "data": {
      "text/plain": [
       "array([205., 205., 173.,   4.,   4.,  34.,  79.,  79., 114., -25.])"
      ]
     },
     "execution_count": 144,
     "metadata": {},
     "output_type": "execute_result"
    }
   ],
   "source": [
    "# sum the differences row-vise\n",
    "np.sum(bid_quantities - ask_quantities, axis=1)"
   ]
  },
  {
   "cell_type": "code",
   "execution_count": 145,
   "id": "93f09fe0",
   "metadata": {},
   "outputs": [
    {
     "data": {
      "text/plain": [
       "array([20.5, 20.5, 17.3,  0.4,  0.4,  3.4,  7.9,  7.9, 11.4, -2.5])"
      ]
     },
     "execution_count": 145,
     "metadata": {},
     "output_type": "execute_result"
    }
   ],
   "source": [
    "# devide by the number of levels:\n",
    "k = 10\n",
    "(1/10)*np.sum(bid_quantities - ask_quantities, axis=1)"
   ]
  },
  {
   "cell_type": "code",
   "execution_count": 155,
   "id": "a099370e",
   "metadata": {},
   "outputs": [
    {
     "data": {
      "text/plain": [
       "array([], dtype=float64)"
      ]
     },
     "execution_count": 155,
     "metadata": {},
     "output_type": "execute_result"
    }
   ],
   "source": [
    "np.arange(start=1, stop=0, step=0.1)"
   ]
  },
  {
   "cell_type": "code",
   "execution_count": 187,
   "id": "621587ee",
   "metadata": {},
   "outputs": [
    {
     "data": {
      "text/plain": [
       "array([1.        , 0.88888889, 0.77777778, 0.66666667, 0.55555556,\n",
       "       0.44444444, 0.33333333, 0.22222222, 0.11111111, 0.        ])"
      ]
     },
     "execution_count": 187,
     "metadata": {},
     "output_type": "execute_result"
    }
   ],
   "source": [
    "# create weigths (more aggressive levels are weighted stronger)\n",
    "weights = np.linspace(1, 0, 10)\n",
    "weights"
   ]
  },
  {
   "cell_type": "code",
   "execution_count": 188,
   "id": "d2cf722f",
   "metadata": {},
   "outputs": [
    {
     "data": {
      "text/plain": [
       "array([[1.        , 0.88888889, 0.77777778, 0.66666667, 0.55555556,\n",
       "        0.44444444, 0.33333333, 0.22222222, 0.11111111, 0.        ],\n",
       "       [1.        , 0.88888889, 0.77777778, 0.66666667, 0.55555556,\n",
       "        0.44444444, 0.33333333, 0.22222222, 0.11111111, 0.        ],\n",
       "       [1.        , 0.88888889, 0.77777778, 0.66666667, 0.55555556,\n",
       "        0.44444444, 0.33333333, 0.22222222, 0.11111111, 0.        ],\n",
       "       [1.        , 0.88888889, 0.77777778, 0.66666667, 0.55555556,\n",
       "        0.44444444, 0.33333333, 0.22222222, 0.11111111, 0.        ],\n",
       "       [1.        , 0.88888889, 0.77777778, 0.66666667, 0.55555556,\n",
       "        0.44444444, 0.33333333, 0.22222222, 0.11111111, 0.        ],\n",
       "       [1.        , 0.88888889, 0.77777778, 0.66666667, 0.55555556,\n",
       "        0.44444444, 0.33333333, 0.22222222, 0.11111111, 0.        ],\n",
       "       [1.        , 0.88888889, 0.77777778, 0.66666667, 0.55555556,\n",
       "        0.44444444, 0.33333333, 0.22222222, 0.11111111, 0.        ],\n",
       "       [1.        , 0.88888889, 0.77777778, 0.66666667, 0.55555556,\n",
       "        0.44444444, 0.33333333, 0.22222222, 0.11111111, 0.        ],\n",
       "       [1.        , 0.88888889, 0.77777778, 0.66666667, 0.55555556,\n",
       "        0.44444444, 0.33333333, 0.22222222, 0.11111111, 0.        ],\n",
       "       [1.        , 0.88888889, 0.77777778, 0.66666667, 0.55555556,\n",
       "        0.44444444, 0.33333333, 0.22222222, 0.11111111, 0.        ]])"
      ]
     },
     "execution_count": 188,
     "metadata": {},
     "output_type": "execute_result"
    }
   ],
   "source": [
    "# make a weights array of 10x10\n",
    "new_weights = np.tile(weights,(10,1))\n",
    "new_weights"
   ]
  },
  {
   "cell_type": "code",
   "execution_count": 186,
   "id": "32a621be",
   "metadata": {},
   "outputs": [
    {
     "data": {
      "text/plain": [
       "array([[  612.,    51.,   749.,   -96.,   229.,   255.,   134.,   242.,\n",
       "         -593., -1378.],\n",
       "       [  612.,    51.,   749.,   -96.,   229.,   255.,   134.,   242.,\n",
       "         -593., -1378.],\n",
       "       [  612.,    19.,   749.,   -96.,   229.,   255.,   134.,   242.,\n",
       "         -593., -1378.],\n",
       "       [   23.,    82.,     5.,   761.,     2.,   140.,   456.,  -191.,\n",
       "          144., -1418.],\n",
       "       [   23.,    82.,     5.,   761.,     2.,   140.,   456.,  -191.,\n",
       "          144., -1418.],\n",
       "       [   23.,   112.,     5.,   761.,     2.,   140.,   456.,  -191.,\n",
       "          144., -1418.],\n",
       "       [   68.,   112.,     5.,   761.,     2.,   140.,   456.,  -191.,\n",
       "          144., -1418.],\n",
       "       [   68.,   112.,     5.,   761.,     2.,   140.,   456.,  -191.,\n",
       "          144., -1418.],\n",
       "       [  103.,   112.,     5.,   761.,     2.,   140.,   456.,  -191.,\n",
       "          144., -1418.],\n",
       "       [  103.,   -27.,     5.,   761.,     2.,   140.,   456.,  -191.,\n",
       "          144., -1418.]])"
      ]
     },
     "execution_count": 186,
     "metadata": {},
     "output_type": "execute_result"
    }
   ],
   "source": [
    "(bid_quantities - ask_quantities)"
   ]
  },
  {
   "cell_type": "code",
   "execution_count": 191,
   "id": "d44cff96",
   "metadata": {},
   "outputs": [
    {
     "data": {
      "text/plain": [
       "array([[612.        ,  45.33333333, 582.55555556, -64.        ,\n",
       "        127.22222222, 113.33333333,  44.66666667,  53.77777778,\n",
       "        -65.88888889,  -0.        ],\n",
       "       [612.        ,  45.33333333, 582.55555556, -64.        ,\n",
       "        127.22222222, 113.33333333,  44.66666667,  53.77777778,\n",
       "        -65.88888889,  -0.        ],\n",
       "       [612.        ,  16.88888889, 582.55555556, -64.        ,\n",
       "        127.22222222, 113.33333333,  44.66666667,  53.77777778,\n",
       "        -65.88888889,  -0.        ],\n",
       "       [ 23.        ,  72.88888889,   3.88888889, 507.33333333,\n",
       "          1.11111111,  62.22222222, 152.        , -42.44444444,\n",
       "         16.        ,  -0.        ],\n",
       "       [ 23.        ,  72.88888889,   3.88888889, 507.33333333,\n",
       "          1.11111111,  62.22222222, 152.        , -42.44444444,\n",
       "         16.        ,  -0.        ],\n",
       "       [ 23.        ,  99.55555556,   3.88888889, 507.33333333,\n",
       "          1.11111111,  62.22222222, 152.        , -42.44444444,\n",
       "         16.        ,  -0.        ],\n",
       "       [ 68.        ,  99.55555556,   3.88888889, 507.33333333,\n",
       "          1.11111111,  62.22222222, 152.        , -42.44444444,\n",
       "         16.        ,  -0.        ],\n",
       "       [ 68.        ,  99.55555556,   3.88888889, 507.33333333,\n",
       "          1.11111111,  62.22222222, 152.        , -42.44444444,\n",
       "         16.        ,  -0.        ],\n",
       "       [103.        ,  99.55555556,   3.88888889, 507.33333333,\n",
       "          1.11111111,  62.22222222, 152.        , -42.44444444,\n",
       "         16.        ,  -0.        ],\n",
       "       [103.        , -24.        ,   3.88888889, 507.33333333,\n",
       "          1.11111111,  62.22222222, 152.        , -42.44444444,\n",
       "         16.        ,  -0.        ]])"
      ]
     },
     "execution_count": 191,
     "metadata": {},
     "output_type": "execute_result"
    }
   ],
   "source": [
    "# multiply the differences with the weights (first should be same, last should be 0)\n",
    "weighted_differences = new_weights*(bid_quantities - ask_quantities)\n",
    "weighted_differences"
   ]
  },
  {
   "cell_type": "code",
   "execution_count": 192,
   "id": "79df9b1a",
   "metadata": {},
   "outputs": [
    {
     "data": {
      "text/plain": [
       "array([144.9       , 144.9       , 142.05555556,  79.6       ,\n",
       "        79.6       ,  82.26666667,  86.76666667,  86.76666667,\n",
       "        90.26666667,  77.91111111])"
      ]
     },
     "execution_count": 192,
     "metadata": {},
     "output_type": "execute_result"
    }
   ],
   "source": [
    "k = 10\n",
    "(1/k)*np.sum(weighted_differences, axis=1)"
   ]
  },
  {
   "cell_type": "code",
   "execution_count": 193,
   "id": "213cc593",
   "metadata": {},
   "outputs": [],
   "source": [
    "# Problem: has to be scaled as well..."
   ]
  },
  {
   "cell_type": "code",
   "execution_count": null,
   "id": "92e37c96",
   "metadata": {},
   "outputs": [],
   "source": []
  }
 ],
 "metadata": {
  "kernelspec": {
   "display_name": "Python [conda env:tensorflow] *",
   "language": "python",
   "name": "conda-env-tensorflow-py"
  },
  "language_info": {
   "codemirror_mode": {
    "name": "ipython",
    "version": 3
   },
   "file_extension": ".py",
   "mimetype": "text/x-python",
   "name": "python",
   "nbconvert_exporter": "python",
   "pygments_lexer": "ipython3",
   "version": "3.9.7"
  }
 },
 "nbformat": 4,
 "nbformat_minor": 5
}
